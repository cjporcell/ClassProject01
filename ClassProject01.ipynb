{
  "nbformat": 4,
  "nbformat_minor": 0,
  "metadata": {
    "colab": {
      "name": "ClassProject01.ipynb",
      "provenance": [],
      "collapsed_sections": [],
      "authorship_tag": "ABX9TyOUyuOV3dND97GRyqYbbvzl",
      "include_colab_link": true
    },
    "kernelspec": {
      "name": "python3",
      "display_name": "Python 3"
    }
  },
  "cells": [
    {
      "cell_type": "markdown",
      "metadata": {
        "id": "view-in-github",
        "colab_type": "text"
      },
      "source": [
        "<a href=\"https://colab.research.google.com/github/cjporcell/ClassProject01/blob/master/ClassProject01.ipynb\" target=\"_parent\"><img src=\"https://colab.research.google.com/assets/colab-badge.svg\" alt=\"Open In Colab\"/></a>"
      ]
    },
    {
      "cell_type": "markdown",
      "metadata": {
        "id": "R_JD-F8-fuKT",
        "colab_type": "text"
      },
      "source": [
        "## Do you like using Jupyter Notebooks?"
      ]
    },
    {
      "cell_type": "markdown",
      "metadata": {
        "id": "CaNZLNLrf8pw",
        "colab_type": "text"
      },
      "source": [
        "this is my answer \n"
      ]
    },
    {
      "cell_type": "markdown",
      "metadata": {
        "id": "YnTrzOgxgdAx",
        "colab_type": "text"
      },
      "source": [
        "## What do you want to learn more about in Jupyter Notebooks?"
      ]
    },
    {
      "cell_type": "markdown",
      "metadata": {
        "id": "hPHQp0WSgphH",
        "colab_type": "text"
      },
      "source": [
        "this is my answer"
      ]
    },
    {
      "cell_type": "markdown",
      "metadata": {
        "id": "jwLu-RLOgt-c",
        "colab_type": "text"
      },
      "source": [
        "![cool_planet](https://raw.githubusercontent.com/cjporcell/ClassProject01/master/images/cool_planet.jpg) "
      ]
    }
  ]
}